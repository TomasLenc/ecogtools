{
 "cells": [
  {
   "cell_type": "code",
   "execution_count": null,
   "metadata": {
    "collapsed": false
   },
   "outputs": [],
   "source": [
    "import numpy as np\n",
    "import h5py\n",
    "import h5io\n",
    "import matplotlib.pyplot as plt\n",
    "import ecogtools as et\n",
    "%matplotlib inline"
   ]
  },
  {
   "cell_type": "markdown",
   "metadata": {},
   "source": [
    "When analyzing the brain, it's important to choose a visualization that lets you localize an effect to a particular region of the brain. This way you can make statements about how processing is localized to one region or another.\n",
    "\n",
    "This means that in neuroscience, you often see images like this:"
   ]
  },
  {
   "cell_type": "code",
   "execution_count": null,
   "metadata": {
    "collapsed": false
   },
   "outputs": [],
   "source": [
    "im = plt.imread('../data/surface/mni_brain.gif')\n",
    "f, ax = plt.subplots()\n",
    "ax.imshow(im)\n",
    "ax.set_axis_off()"
   ]
  },
  {
   "cell_type": "markdown",
   "metadata": {},
   "source": [
    "If we know the coordinates of points where activity occurs, we can plot on top of brains like this:"
   ]
  },
  {
   "cell_type": "code",
   "execution_count": null,
   "metadata": {
    "collapsed": false
   },
   "outputs": [],
   "source": [
    "xy = np.array([[190, 150], [220, 110]])\n",
    "ax.scatter(*xy.T, s=[150, 200], color='r', edgecolor='k')\n",
    "f"
   ]
  },
  {
   "cell_type": "markdown",
   "metadata": {},
   "source": [
    "However, sometimes we want a more rich display of activity on the brain. Fortunately, it is now possible to do this with plot.ly\n",
    "\n",
    "# 3d brains in plotly\n",
    "Plotly is a platform for language-agnostic interactive plotting. They've recently [open-sourced](https://plot.ly/javascript/open-source-announcement/) their entire codebase, which has led to a lot of improvements from the community. One such improvement has recently been made to the speed of 3D plotting making it possible to render high-resolution 3D images (like a brain!).\n",
    "\n",
    "We'll load some modules in plotly and show how easy this is.\n",
    "\n",
    "*an important note: brain plotting is best done locally, within a jupyter notebook. Plotly has libraries for offline plotting, which avoid needing to send the data to plotly's servers first*"
   ]
  },
  {
   "cell_type": "code",
   "execution_count": null,
   "metadata": {
    "collapsed": true
   },
   "outputs": [],
   "source": [
    "from plotly.tools import FigureFactory as ff\n",
    "import plotly.plotly as py\n",
    "import plotly.graph_objs as go\n",
    "import colorlover as cl\n",
    "from plotly import tools as to\n",
    "from plotly.offline import download_plotlyjs, init_notebook_mode, iplot"
   ]
  },
  {
   "cell_type": "code",
   "execution_count": null,
   "metadata": {
    "collapsed": false
   },
   "outputs": [],
   "source": [
    "# We'll initialize plotly's offline mode so that our data isn't sent to the cloud\n",
    "init_notebook_mode()"
   ]
  },
  {
   "cell_type": "markdown",
   "metadata": {},
   "source": [
    "Now, we'll load a surface model of the brain. This is comprised of:\n",
    "\n",
    "* xyz coordinates of points in a 3-D space\n",
    "* an n_triangles x 3 list of indices. Each row specifies 3 points in xyz that, when connected with lines, forms a triangle."
   ]
  },
  {
   "cell_type": "code",
   "execution_count": null,
   "metadata": {
    "collapsed": true
   },
   "outputs": [],
   "source": [
    "# Load the brain data\n",
    "brain = h5io.read_hdf5('../data/surface/mni_surface.h5')\n",
    "plt_brains = ['lh']\n",
    "for i, ihemi in enumerate(plt_brains):\n",
    "    hemi = brain[ihemi]\n",
    "    i_tri = hemi['verts']\n",
    "    i_xyz = hemi['coords'][:]\n",
    "    if i == 0:\n",
    "        tri = i_tri\n",
    "        xyz = i_xyz\n",
    "    else:\n",
    "        tri = np.vstack([tri, i_tri])\n",
    "        xyz = np.vstack([xyz, i_xyz])\n",
    "\n",
    "x, y, z = xyz.T"
   ]
  },
  {
   "cell_type": "markdown",
   "metadata": {},
   "source": [
    "## Plotting with trisurf\n",
    "\n",
    "Using this information we can reconstruct an interactive surface representation of the brain. It's as easy as 4 lines in plotly"
   ]
  },
  {
   "cell_type": "code",
   "execution_count": null,
   "metadata": {
    "collapsed": false
   },
   "outputs": [],
   "source": [
    "# The lighting parameter can be tweaked to get the look you want\n",
    "lighting = dict(ambient=.4, specular=1)\n",
    "fig = ff.create_trisurf(x, y, z, tri, plot_edges=False,\n",
    "                        aspectratio={'x': .7, 'y': 1.5, 'z': 1})\n",
    "fig['data'][0]['lighting'] = lighting\n",
    "iplot(fig)"
   ]
  },
  {
   "cell_type": "markdown",
   "metadata": {},
   "source": [
    "## Plotting with ecogtools\n",
    "There are a lot of neuroscience-specific visualizations that benefit from 3-D viewing. Ecogtools has a simple module (with lots of room for improvement) to make it easier to plot activity foci on the brain, scatterplots of electrode locations / activity, etc.\n",
    "\n",
    "Here's a quick way to go from 0 to brains in just a few lines of code:"
   ]
  },
  {
   "cell_type": "code",
   "execution_count": null,
   "metadata": {
    "collapsed": false
   },
   "outputs": [],
   "source": [
    "# We'll initialize a surface object. Eye is the location of the camera\n",
    "eye = dict(y=0, x=-1.2, z=.1)\n",
    "surf = et.viz3d.ActivitySurfacePlot(eye=eye, zoom=.8)\n",
    "surf.add_surface(xyz, tri)\n",
    "\n",
    "# Read in xyz locations where activity is present\n",
    "data = h5io.read_hdf5('../data/surface/mne.h5')\n",
    "mne_xyz = data['xyz']\n",
    "# Then convert to triangle indices\n",
    "ixs_activity = np.hstack([surf.find_nearest_triangles(ixyz)\n",
    "                          for ixyz in mne_xyz])"
   ]
  },
  {
   "cell_type": "code",
   "execution_count": null,
   "metadata": {
    "collapsed": false
   },
   "outputs": [],
   "source": [
    "# Finally, set the activity and a scatterplot for a subset of triangles\n",
    "surf.set_activity(ixs_activity, activity=40, spread=7, vmin=0, vmax=40)\n",
    "surf.add_scatter_3d(ixs_activity, edgecolor='rgb(255, 0, 0)', s=15)\n",
    "fig = surf.plot()"
   ]
  },
  {
   "cell_type": "code",
   "execution_count": null,
   "metadata": {
    "collapsed": true
   },
   "outputs": [],
   "source": []
  }
 ],
 "metadata": {
  "kernelspec": {
   "display_name": "Python 2",
   "language": "python",
   "name": "python2"
  },
  "language_info": {
   "codemirror_mode": {
    "name": "ipython",
    "version": 2
   },
   "file_extension": ".py",
   "mimetype": "text/x-python",
   "name": "python",
   "nbconvert_exporter": "python",
   "pygments_lexer": "ipython2",
   "version": "2.7.11"
  }
 },
 "nbformat": 4,
 "nbformat_minor": 0
}
